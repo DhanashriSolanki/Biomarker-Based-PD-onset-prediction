{
 "cells": [
  {
   "cell_type": "markdown",
   "id": "c27d0f10",
   "metadata": {},
   "source": [
    "Determine the target attributes in the dataset"
   ]
  },
  {
   "cell_type": "code",
   "execution_count": 1,
   "id": "96fd552c",
   "metadata": {},
   "outputs": [
    {
     "name": "stdout",
     "output_type": "stream",
     "text": [
      "Requirement already satisfied: pandas in c:\\users\\dhanveer solanki\\appdata\\local\\programs\\python\\python312\\lib\\site-packages (2.2.3)\n",
      "Requirement already satisfied: numpy>=1.26.0 in c:\\users\\dhanveer solanki\\appdata\\local\\programs\\python\\python312\\lib\\site-packages (from pandas) (1.26.4)\n",
      "Requirement already satisfied: python-dateutil>=2.8.2 in c:\\users\\dhanveer solanki\\appdata\\local\\programs\\python\\python312\\lib\\site-packages (from pandas) (2.9.0.post0)\n",
      "Requirement already satisfied: pytz>=2020.1 in c:\\users\\dhanveer solanki\\appdata\\local\\programs\\python\\python312\\lib\\site-packages (from pandas) (2024.2)\n",
      "Requirement already satisfied: tzdata>=2022.7 in c:\\users\\dhanveer solanki\\appdata\\local\\programs\\python\\python312\\lib\\site-packages (from pandas) (2024.2)\n",
      "Requirement already satisfied: six>=1.5 in c:\\users\\dhanveer solanki\\appdata\\local\\programs\\python\\python312\\lib\\site-packages (from python-dateutil>=2.8.2->pandas) (1.16.0)\n",
      "Note: you may need to restart the kernel to use updated packages.\n"
     ]
    },
    {
     "name": "stderr",
     "output_type": "stream",
     "text": [
      "\n",
      "[notice] A new release of pip is available: 24.0 -> 25.1.1\n",
      "[notice] To update, run: python.exe -m pip install --upgrade pip\n"
     ]
    },
    {
     "name": "stdout",
     "output_type": "stream",
     "text": [
      "All Columns:\n",
      " ['patient_id', 'visit_month', 'visit_id', 'O00391', 'O00533', 'O00584', 'O14498', 'O14773', 'O14791', 'O15240', 'O15394', 'O43505', 'O60888', 'O75144', 'O75326', 'O94919', 'P00441', 'P00450', 'P00734', 'P00736', 'P00738', 'P00746', 'P00747', 'P00748', 'P00751', 'P01008', 'P01009', 'P01011', 'P01019', 'P01023', 'P01024', 'P01031', 'P01033', 'P01034', 'P01042', 'P01344', 'P01591', 'P01594', 'P01608', 'P01621', 'P01717', 'P01780', 'P01833', 'P01834', 'P01857', 'P01859', 'P01860', 'P01861', 'P01876', 'P01877', 'P02452', 'P02647', 'P02649', 'P02652', 'P02655', 'P02656', 'P02671', 'P02675', 'P02679', 'P02747', 'P02748', 'P02749', 'P02750', 'P02751', 'P02753', 'P02760', 'P02763', 'P02765', 'P02766', 'P02768', 'P02774', 'P02787', 'P02790', 'P02792', 'P04004', 'P04075', 'P04156', 'P04180', 'P04196', 'P04207', 'P04211', 'P04216', 'P04217', 'P04275', 'P04406', 'P04433', 'P05060', 'P05067', 'P05090', 'P05155', 'P05156', 'P05408', 'P05452', 'P05546', 'P06310', 'P06396', 'P06454', 'P06681', 'P06727', 'P07195', 'P07225', 'P07333', 'P07339', 'P07602', 'P07711', 'P07858', 'P07998', 'P08123', 'P08133', 'P08253', 'P08294', 'P08493', 'P08571', 'P08603', 'P08637', 'P08697', 'P09104', 'P09486', 'P09871', 'P10451', 'P10643', 'P10645', 'P10909', 'P11142', 'P11277', 'P12109', 'P13473', 'P13521', 'P13591', 'P13611', 'P13671', 'P13987', 'P14174', 'P14314', 'P14618', 'P16035', 'P16070', 'P16152', 'P16870', 'P17174', 'P17936', 'P18065', 'P19021', 'P19652', 'P19823', 'P19827', 'P20774', 'P20933', 'P23083', 'P23142', 'P24592', 'P25311', 'P27169', 'P30086', 'P31997', 'P32754', 'P35542', 'P36222', 'P36955', 'P36980', 'P39060', 'P40925', 'P41222', 'P43121', 'P43251', 'P43652', 'P49588', 'P49908', 'P51884', 'P54289', 'P55290', 'P60174', 'P61278', 'P61626', 'P61769', 'P61916', 'P80748', 'P98160', 'Q02818', 'Q06481', 'Q08380', 'Q12805', 'Q12841', 'Q12907', 'Q13283', 'Q13332', 'Q13449', 'Q13451', 'Q13740', 'Q14118', 'Q14508', 'Q14515', 'Q14624', 'Q15904', 'Q16270', 'Q16610', 'Q562R1', 'Q6UX71', 'Q6UXB8', 'Q6UXD5', 'Q7Z3B1', 'Q7Z5P9', 'Q8IWV7', 'Q8N2S1', 'Q8NBJ4', 'Q8NE71', 'Q92520', 'Q92823', 'Q92876', 'Q96BZ4', 'Q96KN2', 'Q96PD5', 'Q96S96', 'Q99435', 'Q99674', 'Q99683', 'Q99832', 'Q99969', 'Q9BY67', 'Q9HDC9', 'Q9NQ79', 'Q9NYU2', 'Q9UBR2', 'Q9UBX5', 'Q9UHG2', 'Q9UKV8', 'Q9UNU6', 'Q9Y646', 'Q9Y6R7', 'updrs_1', 'updrs_2', 'updrs_3', 'updrs_4', 'label', 'O00391_was_imputed', 'O00533_was_imputed', 'O00584_was_imputed', 'O14498_was_imputed', 'O14773_was_imputed', 'O14791_was_imputed', 'O15240_was_imputed', 'O15394_was_imputed', 'O43505_was_imputed', 'O60888_was_imputed', 'O75144_was_imputed', 'O75326_was_imputed', 'O94919_was_imputed', 'P00441_was_imputed', 'P00450_was_imputed', 'P00734_was_imputed', 'P00736_was_imputed', 'P00738_was_imputed', 'P00746_was_imputed', 'P00747_was_imputed', 'P00748_was_imputed', 'P00751_was_imputed', 'P01008_was_imputed', 'P01009_was_imputed', 'P01011_was_imputed', 'P01019_was_imputed', 'P01023_was_imputed', 'P01024_was_imputed', 'P01031_was_imputed', 'P01033_was_imputed', 'P01034_was_imputed', 'P01042_was_imputed', 'P01344_was_imputed', 'P01591_was_imputed', 'P01594_was_imputed', 'P01608_was_imputed', 'P01621_was_imputed', 'P01717_was_imputed', 'P01780_was_imputed', 'P01833_was_imputed', 'P01834_was_imputed', 'P01857_was_imputed', 'P01859_was_imputed', 'P01860_was_imputed', 'P01861_was_imputed', 'P01876_was_imputed', 'P01877_was_imputed', 'P02452_was_imputed', 'P02647_was_imputed', 'P02649_was_imputed', 'P02652_was_imputed', 'P02655_was_imputed', 'P02656_was_imputed', 'P02671_was_imputed', 'P02675_was_imputed', 'P02679_was_imputed', 'P02747_was_imputed', 'P02748_was_imputed', 'P02749_was_imputed', 'P02750_was_imputed', 'P02751_was_imputed', 'P02753_was_imputed', 'P02760_was_imputed', 'P02763_was_imputed', 'P02765_was_imputed', 'P02766_was_imputed', 'P02768_was_imputed', 'P02774_was_imputed', 'P02787_was_imputed', 'P02790_was_imputed', 'P02792_was_imputed', 'P04004_was_imputed', 'P04075_was_imputed', 'P04156_was_imputed', 'P04180_was_imputed', 'P04196_was_imputed', 'P04207_was_imputed', 'P04211_was_imputed', 'P04216_was_imputed', 'P04217_was_imputed', 'P04275_was_imputed', 'P04406_was_imputed', 'P04433_was_imputed', 'P05060_was_imputed', 'P05067_was_imputed', 'P05090_was_imputed', 'P05155_was_imputed', 'P05156_was_imputed', 'P05408_was_imputed', 'P05452_was_imputed', 'P05546_was_imputed', 'P06310_was_imputed', 'P06396_was_imputed', 'P06454_was_imputed', 'P06681_was_imputed', 'P06727_was_imputed', 'P07195_was_imputed', 'P07225_was_imputed', 'P07333_was_imputed', 'P07339_was_imputed', 'P07602_was_imputed', 'P07711_was_imputed', 'P07858_was_imputed', 'P07998_was_imputed', 'P08123_was_imputed', 'P08133_was_imputed', 'P08253_was_imputed', 'P08294_was_imputed', 'P08493_was_imputed', 'P08571_was_imputed', 'P08603_was_imputed', 'P08637_was_imputed', 'P08697_was_imputed', 'P09104_was_imputed', 'P09486_was_imputed', 'P09871_was_imputed', 'P10451_was_imputed', 'P10643_was_imputed', 'P10645_was_imputed', 'P10909_was_imputed', 'P11142_was_imputed', 'P11277_was_imputed', 'P12109_was_imputed', 'P13473_was_imputed', 'P13521_was_imputed', 'P13591_was_imputed', 'P13611_was_imputed', 'P13671_was_imputed', 'P13987_was_imputed', 'P14174_was_imputed', 'P14314_was_imputed', 'P14618_was_imputed', 'P16035_was_imputed', 'P16070_was_imputed', 'P16152_was_imputed', 'P16870_was_imputed', 'P17174_was_imputed', 'P17936_was_imputed', 'P18065_was_imputed', 'P19021_was_imputed', 'P19652_was_imputed', 'P19823_was_imputed', 'P19827_was_imputed', 'P20774_was_imputed', 'P20933_was_imputed', 'P23083_was_imputed', 'P23142_was_imputed', 'P24592_was_imputed', 'P25311_was_imputed', 'P27169_was_imputed', 'P30086_was_imputed', 'P31997_was_imputed', 'P32754_was_imputed', 'P35542_was_imputed', 'P36222_was_imputed', 'P36955_was_imputed', 'P36980_was_imputed', 'P39060_was_imputed', 'P40925_was_imputed', 'P41222_was_imputed', 'P43121_was_imputed', 'P43251_was_imputed', 'P43652_was_imputed', 'P49588_was_imputed', 'P49908_was_imputed', 'P51884_was_imputed', 'P54289_was_imputed', 'P55290_was_imputed', 'P60174_was_imputed', 'P61278_was_imputed', 'P61626_was_imputed', 'P61769_was_imputed', 'P61916_was_imputed', 'P80748_was_imputed', 'P98160_was_imputed', 'Q02818_was_imputed', 'Q06481_was_imputed', 'Q08380_was_imputed', 'Q12805_was_imputed', 'Q12841_was_imputed', 'Q12907_was_imputed', 'Q13283_was_imputed', 'Q13332_was_imputed', 'Q13449_was_imputed', 'Q13451_was_imputed', 'Q13740_was_imputed', 'Q14118_was_imputed', 'Q14508_was_imputed', 'Q14515_was_imputed', 'Q14624_was_imputed', 'Q15904_was_imputed', 'Q16270_was_imputed', 'Q16610_was_imputed', 'Q562R1_was_imputed', 'Q6UX71_was_imputed', 'Q6UXB8_was_imputed', 'Q6UXD5_was_imputed', 'Q7Z3B1_was_imputed', 'Q7Z5P9_was_imputed', 'Q8IWV7_was_imputed', 'Q8N2S1_was_imputed', 'Q8NBJ4_was_imputed', 'Q8NE71_was_imputed', 'Q92520_was_imputed', 'Q92823_was_imputed', 'Q92876_was_imputed', 'Q96BZ4_was_imputed', 'Q96KN2_was_imputed', 'Q96PD5_was_imputed', 'Q96S96_was_imputed', 'Q99435_was_imputed', 'Q99674_was_imputed', 'Q99683_was_imputed', 'Q99832_was_imputed', 'Q99969_was_imputed', 'Q9BY67_was_imputed', 'Q9HDC9_was_imputed', 'Q9NQ79_was_imputed', 'Q9NYU2_was_imputed', 'Q9UBR2_was_imputed', 'Q9UBX5_was_imputed', 'Q9UHG2_was_imputed', 'Q9UKV8_was_imputed', 'Q9UNU6_was_imputed', 'Q9Y646_was_imputed', 'Q9Y6R7_was_imputed']\n",
      "\n",
      "Potential Target Columns:\n",
      " ['label']\n",
      "\n",
      "Value counts for 'label':\n",
      "label\n",
      "1    693\n",
      "0    375\n",
      "Name: count, dtype: int64\n"
     ]
    }
   ],
   "source": [
    "%pip install pandas\n",
    "import pandas as pd\n",
    "\n",
    "# Load your dataset\n",
    "df = pd.read_csv(\"cleaned_early_pd_dataset.csv\")\n",
    "\n",
    "# Step 1: Show all column names\n",
    "print(\"All Columns:\\n\", df.columns.tolist())\n",
    "\n",
    "# Step 2: Search for likely target columns\n",
    "potential_targets = [col for col in df.columns if any(\n",
    "    keyword in col.lower() for keyword in ['diagnosis', 'disease', 'status', 'label', 'state'])]\n",
    "print(\"\\nPotential Target Columns:\\n\", potential_targets)\n",
    "\n",
    "# Step 3: Inspect value counts of those columns\n",
    "for col in potential_targets:\n",
    "    print(f\"\\nValue counts for '{col}':\")\n",
    "    print(df[col].value_counts(dropna=False))\n"
   ]
  }
 ],
 "metadata": {
  "kernelspec": {
   "display_name": "Python 3",
   "language": "python",
   "name": "python3"
  },
  "language_info": {
   "codemirror_mode": {
    "name": "ipython",
    "version": 3
   },
   "file_extension": ".py",
   "mimetype": "text/x-python",
   "name": "python",
   "nbconvert_exporter": "python",
   "pygments_lexer": "ipython3",
   "version": "3.12.4"
  }
 },
 "nbformat": 4,
 "nbformat_minor": 5
}
