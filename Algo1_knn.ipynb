{
 "cells": [
  {
   "cell_type": "markdown",
   "id": "ca46fb41",
   "metadata": {},
   "source": [
    "Algorithm used:\n",
    "KNN classifier. [Baseline algorithm and does not give much accuracy]\n",
    "k value after cross validation=1"
   ]
  },
  {
   "cell_type": "code",
   "execution_count": 12,
   "id": "5c7283c4",
   "metadata": {},
   "outputs": [
    {
     "name": "stdout",
     "output_type": "stream",
     "text": [
      "Requirement already satisfied: scikit-learn in c:\\users\\dhanveer solanki\\appdata\\local\\programs\\python\\python312\\lib\\site-packages (1.6.1)\n",
      "Requirement already satisfied: pandas in c:\\users\\dhanveer solanki\\appdata\\local\\programs\\python\\python312\\lib\\site-packages (2.2.3)\n",
      "Collecting matplotlib\n",
      "  Downloading matplotlib-3.10.3-cp312-cp312-win_amd64.whl.metadata (11 kB)\n",
      "Requirement already satisfied: numpy>=1.19.5 in c:\\users\\dhanveer solanki\\appdata\\local\\programs\\python\\python312\\lib\\site-packages (from scikit-learn) (1.26.4)\n",
      "Requirement already satisfied: scipy>=1.6.0 in c:\\users\\dhanveer solanki\\appdata\\local\\programs\\python\\python312\\lib\\site-packages (from scikit-learn) (1.15.3)\n",
      "Requirement already satisfied: joblib>=1.2.0 in c:\\users\\dhanveer solanki\\appdata\\local\\programs\\python\\python312\\lib\\site-packages (from scikit-learn) (1.4.2)\n",
      "Requirement already satisfied: threadpoolctl>=3.1.0 in c:\\users\\dhanveer solanki\\appdata\\local\\programs\\python\\python312\\lib\\site-packages (from scikit-learn) (3.6.0)\n",
      "Requirement already satisfied: python-dateutil>=2.8.2 in c:\\users\\dhanveer solanki\\appdata\\local\\programs\\python\\python312\\lib\\site-packages (from pandas) (2.9.0.post0)\n",
      "Requirement already satisfied: pytz>=2020.1 in c:\\users\\dhanveer solanki\\appdata\\local\\programs\\python\\python312\\lib\\site-packages (from pandas) (2024.2)\n",
      "Requirement already satisfied: tzdata>=2022.7 in c:\\users\\dhanveer solanki\\appdata\\local\\programs\\python\\python312\\lib\\site-packages (from pandas) (2024.2)\n",
      "Collecting contourpy>=1.0.1 (from matplotlib)\n",
      "  Downloading contourpy-1.3.2-cp312-cp312-win_amd64.whl.metadata (5.5 kB)\n",
      "Collecting cycler>=0.10 (from matplotlib)\n",
      "  Downloading cycler-0.12.1-py3-none-any.whl.metadata (3.8 kB)\n",
      "Collecting fonttools>=4.22.0 (from matplotlib)\n",
      "  Downloading fonttools-4.58.0-cp312-cp312-win_amd64.whl.metadata (106 kB)\n",
      "     ---------------------------------------- 0.0/106.6 kB ? eta -:--:--\n",
      "     ----------- --------------------------- 30.7/106.6 kB 1.3 MB/s eta 0:00:01\n",
      "     -------------------------------------- 106.6/106.6 kB 1.5 MB/s eta 0:00:00\n",
      "Collecting kiwisolver>=1.3.1 (from matplotlib)\n",
      "  Downloading kiwisolver-1.4.8-cp312-cp312-win_amd64.whl.metadata (6.3 kB)\n",
      "Requirement already satisfied: packaging>=20.0 in c:\\users\\dhanveer solanki\\appdata\\local\\programs\\python\\python312\\lib\\site-packages (from matplotlib) (24.2)\n",
      "Requirement already satisfied: pillow>=8 in c:\\users\\dhanveer solanki\\appdata\\local\\programs\\python\\python312\\lib\\site-packages (from matplotlib) (11.0.0)\n",
      "Collecting pyparsing>=2.3.1 (from matplotlib)\n",
      "  Downloading pyparsing-3.2.3-py3-none-any.whl.metadata (5.0 kB)\n",
      "Requirement already satisfied: six>=1.5 in c:\\users\\dhanveer solanki\\appdata\\local\\programs\\python\\python312\\lib\\site-packages (from python-dateutil>=2.8.2->pandas) (1.16.0)\n",
      "Downloading matplotlib-3.10.3-cp312-cp312-win_amd64.whl (8.1 MB)\n",
      "   ---------------------------------------- 0.0/8.1 MB ? eta -:--:--\n",
      "   -- ------------------------------------- 0.5/8.1 MB 16.8 MB/s eta 0:00:01\n",
      "   --------- ------------------------------ 1.9/8.1 MB 24.7 MB/s eta 0:00:01\n",
      "   -------------- ------------------------- 2.9/8.1 MB 26.3 MB/s eta 0:00:01\n",
      "   ------------------ --------------------- 3.7/8.1 MB 23.6 MB/s eta 0:00:01\n",
      "   ------------------- -------------------- 3.9/8.1 MB 17.7 MB/s eta 0:00:01\n",
      "   -------------------- ------------------- 4.1/8.1 MB 16.3 MB/s eta 0:00:01\n",
      "   --------------------- ------------------ 4.4/8.1 MB 14.7 MB/s eta 0:00:01\n",
      "   ---------------------- ----------------- 4.6/8.1 MB 13.5 MB/s eta 0:00:01\n",
      "   ------------------------ --------------- 4.8/8.1 MB 12.4 MB/s eta 0:00:01\n",
      "   ------------------------- -------------- 5.1/8.1 MB 11.6 MB/s eta 0:00:01\n",
      "   ------------------------- -------------- 5.2/8.1 MB 10.7 MB/s eta 0:00:01\n",
      "   -------------------------- ------------- 5.3/8.1 MB 10.0 MB/s eta 0:00:01\n",
      "   -------------------------- ------------- 5.3/8.1 MB 10.0 MB/s eta 0:00:01\n",
      "   -------------------------- ------------- 5.3/8.1 MB 10.0 MB/s eta 0:00:01\n",
      "   -------------------------- ------------- 5.3/8.1 MB 10.0 MB/s eta 0:00:01\n",
      "   -------------------------- ------------- 5.3/8.1 MB 10.0 MB/s eta 0:00:01\n",
      "   -------------------------- ------------- 5.3/8.1 MB 10.0 MB/s eta 0:00:01\n",
      "   -------------------------- ------------- 5.3/8.1 MB 10.0 MB/s eta 0:00:01\n",
      "   -------------------------- ------------- 5.3/8.1 MB 6.4 MB/s eta 0:00:01\n",
      "   -------------------------- ------------- 5.3/8.1 MB 6.1 MB/s eta 0:00:01\n",
      "   -------------------------- ------------- 5.4/8.1 MB 5.6 MB/s eta 0:00:01\n",
      "   --------------------------- ------------ 5.4/8.1 MB 5.4 MB/s eta 0:00:01\n",
      "   --------------------------- ------------ 5.5/8.1 MB 5.3 MB/s eta 0:00:01\n",
      "   --------------------------- ------------ 5.6/8.1 MB 5.1 MB/s eta 0:00:01\n",
      "   ---------------------------- ----------- 5.7/8.1 MB 5.0 MB/s eta 0:00:01\n",
      "   ---------------------------- ----------- 5.8/8.1 MB 4.9 MB/s eta 0:00:01\n",
      "   ----------------------------- ---------- 5.9/8.1 MB 4.8 MB/s eta 0:00:01\n",
      "   ------------------------------ --------- 6.1/8.1 MB 4.7 MB/s eta 0:00:01\n",
      "   ------------------------------ --------- 6.2/8.1 MB 4.7 MB/s eta 0:00:01\n",
      "   ------------------------------- -------- 6.3/8.1 MB 4.6 MB/s eta 0:00:01\n",
      "   -------------------------------- ------- 6.5/8.1 MB 4.6 MB/s eta 0:00:01\n",
      "   -------------------------------- ------- 6.6/8.1 MB 4.6 MB/s eta 0:00:01\n",
      "   --------------------------------- ------ 6.8/8.1 MB 4.5 MB/s eta 0:00:01\n",
      "   ---------------------------------- ----- 7.0/8.1 MB 4.5 MB/s eta 0:00:01\n",
      "   ----------------------------------- ---- 7.2/8.1 MB 4.5 MB/s eta 0:00:01\n",
      "   ------------------------------------ --- 7.4/8.1 MB 4.5 MB/s eta 0:00:01\n",
      "   ------------------------------------- -- 7.6/8.1 MB 4.5 MB/s eta 0:00:01\n",
      "   -------------------------------------- - 7.8/8.1 MB 4.5 MB/s eta 0:00:01\n",
      "   ---------------------------------------  8.1/8.1 MB 4.5 MB/s eta 0:00:01\n",
      "   ---------------------------------------- 8.1/8.1 MB 4.4 MB/s eta 0:00:00\n",
      "Downloading contourpy-1.3.2-cp312-cp312-win_amd64.whl (223 kB)\n",
      "   ---------------------------------------- 0.0/223.0 kB ? eta -:--:--\n",
      "   -------------------------------------- - 215.0/223.0 kB 4.4 MB/s eta 0:00:01\n",
      "   ---------------------------------------- 223.0/223.0 kB 3.4 MB/s eta 0:00:00\n",
      "Downloading cycler-0.12.1-py3-none-any.whl (8.3 kB)\n",
      "Downloading fonttools-4.58.0-cp312-cp312-win_amd64.whl (2.2 MB)\n",
      "   ---------------------------------------- 0.0/2.2 MB ? eta -:--:--\n",
      "   ---- ----------------------------------- 0.2/2.2 MB 6.9 MB/s eta 0:00:01\n",
      "   -------- ------------------------------- 0.5/2.2 MB 5.8 MB/s eta 0:00:01\n",
      "   ------------- -------------------------- 0.7/2.2 MB 5.9 MB/s eta 0:00:01\n",
      "   ------------------ --------------------- 1.0/2.2 MB 5.8 MB/s eta 0:00:01\n",
      "   ----------------------- ---------------- 1.3/2.2 MB 5.9 MB/s eta 0:00:01\n",
      "   ---------------------------- ----------- 1.6/2.2 MB 6.3 MB/s eta 0:00:01\n",
      "   ---------------------------------- ----- 1.9/2.2 MB 6.4 MB/s eta 0:00:01\n",
      "   ---------------------------------------  2.2/2.2 MB 6.4 MB/s eta 0:00:01\n",
      "   ---------------------------------------- 2.2/2.2 MB 5.9 MB/s eta 0:00:00\n",
      "Downloading kiwisolver-1.4.8-cp312-cp312-win_amd64.whl (71 kB)\n",
      "   ---------------------------------------- 0.0/71.9 kB ? eta -:--:--\n",
      "   ---------------------------------------- 71.9/71.9 kB 2.0 MB/s eta 0:00:00\n",
      "Downloading pyparsing-3.2.3-py3-none-any.whl (111 kB)\n",
      "   ---------------------------------------- 0.0/111.1 kB ? eta -:--:--\n",
      "   ---------------------------------------- 111.1/111.1 kB 3.3 MB/s eta 0:00:00\n",
      "Installing collected packages: pyparsing, kiwisolver, fonttools, cycler, contourpy, matplotlib\n",
      "Successfully installed contourpy-1.3.2 cycler-0.12.1 fonttools-4.58.0 kiwisolver-1.4.8 matplotlib-3.10.3 pyparsing-3.2.3\n",
      "Note: you may need to restart the kernel to use updated packages.\n"
     ]
    },
    {
     "name": "stderr",
     "output_type": "stream",
     "text": [
      "\n",
      "[notice] A new release of pip is available: 24.0 -> 25.1.1\n",
      "[notice] To update, run: python.exe -m pip install --upgrade pip\n"
     ]
    }
   ],
   "source": [
    "%pip install scikit-learn pandas matplotlib"
   ]
  },
  {
   "cell_type": "code",
   "execution_count": 2,
   "id": "0c93be3f",
   "metadata": {},
   "outputs": [],
   "source": [
    "from sklearn.model_selection import train_test_split\n",
    "import pandas as pd\n",
    "\n",
    "df = pd.read_csv(\"cleaned_early_pd_dataset.csv\")\n",
    "\n",
    "X = df.drop(columns=['label', 'patient_id', 'visit_id', 'visit_month'])  # drop ID/time columns\n",
    "y = df['label']\n",
    "\n",
    "X_train, X_test, y_train, y_test = train_test_split(X, y, test_size=0.2, random_state=42, stratify=y)\n"
   ]
  },
  {
   "cell_type": "code",
   "execution_count": 9,
   "id": "392416bd",
   "metadata": {},
   "outputs": [
    {
     "name": "stdout",
     "output_type": "stream",
     "text": [
      "The number of instances of each type:\n",
      "Training X:854\n",
      "Testing X:214\n",
      "Training y:854\n",
      "Testing y:214\n"
     ]
    }
   ],
   "source": [
    "print(\"The number of instances of each type:\")\n",
    "print(f\"Training X:{X_train.shape[0]}\")\n",
    "print(f\"Testing X:{X_test.shape[0]}\")\n",
    "print(f\"Training y:{y_train.shape[0]}\")\n",
    "print(f\"Testing y:{y_test.shape[0]}\")"
   ]
  },
  {
   "cell_type": "code",
   "execution_count": 13,
   "id": "a090a720",
   "metadata": {},
   "outputs": [],
   "source": [
    "from sklearn.preprocessing import StandardScaler\n",
    "from sklearn.neighbors import KNeighborsClassifier\n",
    "from sklearn.metrics import classification_report, confusion_matrix"
   ]
  },
  {
   "cell_type": "code",
   "execution_count": 15,
   "id": "9abc242b",
   "metadata": {},
   "outputs": [
    {
     "data": {
      "image/png": "[encoded data removed]",
      "text/plain": [
       "<Figure size 640x480 with 1 Axes>"
      ]
     },
     "metadata": {},
     "output_type": "display_data"
    }
   ],
   "source": [
    "from sklearn.model_selection import cross_val_score\n",
    "import matplotlib.pyplot as plt\n",
    "\n",
    "# Step 1: Scale the data\n",
    "scaler = StandardScaler()\n",
    "X_train_scaled = scaler.fit_transform(X_train)\n",
    "X_test_scaled = scaler.transform(X_test)\n",
    "\n",
    "k_range = range(1, 21)\n",
    "scores = []\n",
    "\n",
    "for k in k_range:\n",
    "    knn = KNeighborsClassifier(n_neighbors=k)\n",
    "    score = cross_val_score(knn, X_train_scaled, y_train, cv=5, scoring='accuracy')\n",
    "    scores.append(score.mean())\n",
    "\n",
    "plt.plot(k_range, scores)\n",
    "plt.xlabel('k value')\n",
    "plt.ylabel('Cross-validated Accuracy')\n",
    "plt.title('Finding the Optimal k')\n",
    "plt.show()\n"
   ]
  },
  {
   "cell_type": "markdown",
   "id": "cd6e883a",
   "metadata": {},
   "source": [
    "Peak value is obtained at k=1"
   ]
  },
  {
   "cell_type": "code",
   "execution_count": 19,
   "id": "a8880471",
   "metadata": {},
   "outputs": [
    {
     "name": "stdout",
     "output_type": "stream",
     "text": [
      "Confusion matrix\n",
      "[[ 59  16]\n",
      " [ 14 125]]\n",
      "              precision    recall  f1-score   support\n",
      "\n",
      "           0       0.81      0.79      0.80        75\n",
      "           1       0.89      0.90      0.89       139\n",
      "\n",
      "    accuracy                           0.86       214\n",
      "   macro avg       0.85      0.84      0.85       214\n",
      "weighted avg       0.86      0.86      0.86       214\n",
      "\n"
     ]
    }
   ],
   "source": [
    "# Step 2: Train KNN\n",
    "knn = KNeighborsClassifier(n_neighbors=1)\n",
    "knn.fit(X_train_scaled, y_train)\n",
    "\n",
    "# Step 3: Predict and evaluate\n",
    "y_pred = knn.predict(X_test_scaled)\n",
    "\n",
    "print(\"Confusion matrix\")\n",
    "print(confusion_matrix(y_test, y_pred))\n",
    "print(classification_report(y_test, y_pred))\n"
   ]
  },
  {
   "cell_type": "markdown",
   "id": "cfdf0ca1",
   "metadata": {},
   "source": [
    "Inference: k=1(obtained after cross validation)\n",
    "\n",
    "Class 0 (non-Parkinson’s cases):\n",
    "Precision = 0.81 ---> 81% of those predicted as 0 were actually 0.\n",
    "Recall = 0.79 ---> 90% of actual 0 cases were correctly predicted.\n",
    "F1 = 0.80 ---> Good balance of precision and recall.\n",
    "\n",
    "Class 1 (Parkinson’s cases):\n",
    "Precision = 0.89 ---> 89% of those predicted as 1 were correct.\n",
    "Recall = 0.90 ---> 90% of actual 1 cases were correctly detected.\n",
    "F1 = 0.89 ---> Very good!\n",
    "\n",
    "Accuracy of the knn where k=1 is 86%"
   ]
  }
 ],
 "metadata": {
  "kernelspec": {
   "display_name": "Python 3",
   "language": "python",
   "name": "python3"
  },
  "language_info": {
   "codemirror_mode": {
    "name": "ipython",
    "version": 3
   },
   "file_extension": ".py",
   "mimetype": "text/x-python",
   "name": "python",
   "nbconvert_exporter": "python",
   "pygments_lexer": "ipython3",
   "version": "3.12.4"
  }
 },
 "nbformat": 4,
 "nbformat_minor": 5
}
